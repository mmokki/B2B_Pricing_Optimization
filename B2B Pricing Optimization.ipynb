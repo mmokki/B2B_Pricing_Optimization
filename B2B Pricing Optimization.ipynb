{
 "cells": [
  {
   "cell_type": "markdown",
   "metadata": {
    "colab_type": "text",
    "id": "b-1ButI4dxCl"
   },
   "source": [
    "# B2B Pricing Optimization\n",
    "\n",
    "This project aims to optimize contract discount for each company to maximize the total contract revenue.\n",
    "\n",
    "- We first built several logistic regression models to predict the probability of contract win using historical data.\n",
    "\n",
    "- Then we applied pricing optimization model for using each prediction model results to find the best-performing one.\n",
    "\n",
    "- By comparing the evaluation metric (optimized revenue/ actual revenue ratio), we determined best-performing optimization model, which leads to 61.2% revenue increase in the hold-out sample."
   ]
  },
  {
   "cell_type": "markdown",
   "metadata": {
    "colab_type": "text",
    "id": "Z1NbrNNYQ17R"
   },
   "source": [
    "## Data Preparation"
   ]
  },
  {
   "cell_type": "code",
   "execution_count": 128,
   "metadata": {
    "colab": {
     "base_uri": "https://localhost:8080/",
     "height": 289
    },
    "colab_type": "code",
    "id": "QpDIjWFM2I5P",
    "outputId": "8dcb3fb0-7079-42ff-f8fc-950acf10cfba"
   },
   "outputs": [
    {
     "data": {
      "text/html": [
       "<div>\n",
       "<style scoped>\n",
       "    .dataframe tbody tr th:only-of-type {\n",
       "        vertical-align: middle;\n",
       "    }\n",
       "\n",
       "    .dataframe tbody tr th {\n",
       "        vertical-align: top;\n",
       "    }\n",
       "\n",
       "    .dataframe thead th {\n",
       "        text-align: right;\n",
       "    }\n",
       "</style>\n",
       "<table border=\"1\" class=\"dataframe\">\n",
       "  <thead>\n",
       "    <tr style=\"text-align: right;\">\n",
       "      <th></th>\n",
       "      <th>ID</th>\n",
       "      <th>Close Date</th>\n",
       "      <th>Created Date</th>\n",
       "      <th>New Logo</th>\n",
       "      <th>Type</th>\n",
       "      <th>Stage</th>\n",
       "      <th>Billing Plan</th>\n",
       "      <th>ACV</th>\n",
       "      <th>Discount Amount</th>\n",
       "      <th>Amount</th>\n",
       "      <th>Net Amount</th>\n",
       "    </tr>\n",
       "  </thead>\n",
       "  <tbody>\n",
       "    <tr>\n",
       "      <th>0</th>\n",
       "      <td>1</td>\n",
       "      <td>5/26/17</td>\n",
       "      <td>5/4/17</td>\n",
       "      <td>1</td>\n",
       "      <td>Direct - Cloud Product</td>\n",
       "      <td>Closed Lost</td>\n",
       "      <td>3 Years</td>\n",
       "      <td>431370</td>\n",
       "      <td></td>\n",
       "      <td>225000</td>\n",
       "      <td>225000</td>\n",
       "    </tr>\n",
       "    <tr>\n",
       "      <th>1</th>\n",
       "      <td>2</td>\n",
       "      <td>12/29/16</td>\n",
       "      <td>11/29/16</td>\n",
       "      <td>1</td>\n",
       "      <td>Partner - OnPremise Product</td>\n",
       "      <td>Closed Won - Paid</td>\n",
       "      <td>3 Years</td>\n",
       "      <td>22050</td>\n",
       "      <td>80850</td>\n",
       "      <td>147000</td>\n",
       "      <td>66150</td>\n",
       "    </tr>\n",
       "    <tr>\n",
       "      <th>2</th>\n",
       "      <td>3</td>\n",
       "      <td>12/29/16</td>\n",
       "      <td>12/9/16</td>\n",
       "      <td>1</td>\n",
       "      <td>Partner - Cloud Product</td>\n",
       "      <td>Closed Won - Paid</td>\n",
       "      <td>3 Years</td>\n",
       "      <td>32750</td>\n",
       "      <td>43200</td>\n",
       "      <td>96000</td>\n",
       "      <td>52800</td>\n",
       "    </tr>\n",
       "    <tr>\n",
       "      <th>3</th>\n",
       "      <td>4</td>\n",
       "      <td>9/9/16</td>\n",
       "      <td>4/20/16</td>\n",
       "      <td>1</td>\n",
       "      <td>Direct - Cloud Product</td>\n",
       "      <td>Closed Won - Paid</td>\n",
       "      <td>4 Years</td>\n",
       "      <td>36694</td>\n",
       "      <td>44800</td>\n",
       "      <td>128000</td>\n",
       "      <td>83200</td>\n",
       "    </tr>\n",
       "    <tr>\n",
       "      <th>4</th>\n",
       "      <td>5</td>\n",
       "      <td>9/22/16</td>\n",
       "      <td>9/1/16</td>\n",
       "      <td>1</td>\n",
       "      <td>Partner - OnPremise Product</td>\n",
       "      <td>Closed Won - Paid</td>\n",
       "      <td>3 Years</td>\n",
       "      <td>18700</td>\n",
       "      <td>9900</td>\n",
       "      <td>66000</td>\n",
       "      <td>56100</td>\n",
       "    </tr>\n",
       "  </tbody>\n",
       "</table>\n",
       "</div>"
      ],
      "text/plain": [
       "   ID Close Date Created Date  ...   Discount Amount   Amount   Net Amount \n",
       "0   1    5/26/17       5/4/17  ...                      225000       225000\n",
       "1   2   12/29/16     11/29/16  ...              80850   147000        66150\n",
       "2   3   12/29/16      12/9/16  ...              43200    96000        52800\n",
       "3   4     9/9/16      4/20/16  ...              44800   128000        83200\n",
       "4   5    9/22/16       9/1/16  ...               9900    66000        56100\n",
       "\n",
       "[5 rows x 11 columns]"
      ]
     },
     "execution_count": 128,
     "metadata": {
      "tags": []
     },
     "output_type": "execute_result"
    }
   ],
   "source": [
    "import matplotlib.pyplot as plt\n",
    "import numpy as np\n",
    "import statsmodels.api as sm\n",
    "import statsmodels.formula.api as smf\n",
    "from scipy.optimize import minimize\n",
    "import math\n",
    "import scipy\n",
    "import scipy.stats as stats\n",
    "from scipy.optimize import minimize_scalar\n",
    "from scipy.optimize import minimize\n",
    "from sklearn import preprocessing\n",
    "import seaborn as sns\n",
    "import pandas as pd\n",
    "import numpy as np \n",
    "\n",
    "url = 'https://raw.githubusercontent.com/ormarketing/b2b/master/data.csv'\n",
    "df = pd.read_csv(url)\n",
    "df.head()"
   ]
  },
  {
   "cell_type": "code",
   "execution_count": 129,
   "metadata": {
    "colab": {},
    "colab_type": "code",
    "id": "HX_cJD192jwa"
   },
   "outputs": [],
   "source": [
    "df['Partner cloud']=np.where(df['Type'] =='Partner - Cloud Product', 1.0,0.0)\n",
    "df['Partner prem']=np.where(df['Type'] =='Partner - OnPremise Product', 1.0, 0.0)\n",
    "df['Direct cloud']=np.where(df['Type'] =='Direct - Cloud Product', 1.0,0.0)\n",
    "df['Direct prem']=np.where(df['Type'] =='Direct - OnPremise Product', 1.0, 0.0)\n",
    "df['amount']=pd.to_numeric(df[' Amount '],errors='coerce')\n",
    "df['acv']=pd.to_numeric(df[' ACV '],errors='coerce')\n",
    "df['net amount']=pd.to_numeric(df[' Net Amount '],errors='coerce')\n",
    "df['billing plan year']=pd.to_numeric(df['Billing Plan'].astype(str).str[0],errors='coerce') #turn billing plan to a bumber\n",
    "df['discount']=df['amount']-df['net amount']\n",
    "df['depth']=df['discount']/df['amount']\n",
    "df.drop(' Discount Amount ',axis=1)\n",
    "df.drop([' ACV ',' Discount Amount ',' Amount ', ' Net Amount ', 'ID', 'Type'],axis=1);"
   ]
  },
  {
   "cell_type": "markdown",
   "metadata": {
    "colab_type": "text",
    "id": "iS0D6-gYyFjk"
   },
   "source": [
    "## EDA"
   ]
  },
  {
   "cell_type": "code",
   "execution_count": 130,
   "metadata": {
    "colab": {
     "base_uri": "https://localhost:8080/",
     "height": 330
    },
    "colab_type": "code",
    "id": "5AAU1Be02sce",
    "outputId": "772742d2-c9fe-422a-8895-a3c35dc6e3f5"
   },
   "outputs": [
    {
     "data": {
      "text/plain": [
       "Lost    971\n",
       "Won     534\n",
       "Name: Stage, dtype: int64"
      ]
     },
     "execution_count": 130,
     "metadata": {
      "tags": []
     },
     "output_type": "execute_result"
    },
    {
     "data": {
      "image/png": "[encoded data removed]",
      "text/plain": [
       "<Figure size 432x288 with 1 Axes>"
      ]
     },
     "metadata": {
      "needs_background": "light",
      "tags": []
     },
     "output_type": "display_data"
    }
   ],
   "source": [
    "# Check the number of lost and won contract\n",
    "df['Stage']=np.where(df['Stage'] =='Closed Lost', 'Lost', df['Stage'])\n",
    "df['Stage']=np.where(df['Stage'] =='Closed Won - Paid', 'Won', df['Stage'])\n",
    "df['Stage']=np.where(df['Stage'] =='Closed Won - Not Paid', 'Won', df['Stage'])\n",
    "df['Stage']=np.where(df['Stage'] =='Closed - Lost', 'Lost', df['Stage'])\n",
    "df['Stage']=np.where(df['Stage'] =='Closed Lost - Not Renewing', 'Lost', df['Stage'])\n",
    "sns.countplot(x='Stage',data=df)\n",
    "df['Stage'].value_counts()"
   ]
  },
  {
   "cell_type": "code",
   "execution_count": 131,
   "metadata": {
    "colab": {
     "base_uri": "https://localhost:8080/",
     "height": 34
    },
    "colab_type": "code",
    "id": "5QJHvr7N2wCv",
    "outputId": "d203de06-47e4-4e54-ce35-f8b247957269"
   },
   "outputs": [
    {
     "data": {
      "text/plain": [
       "0.355"
      ]
     },
     "execution_count": 131,
     "metadata": {
      "tags": []
     },
     "output_type": "execute_result"
    }
   ],
   "source": [
    "# Check the won proportion\n",
    "count_Lost = len(df[df['Stage']=='Lost'])\n",
    "count_Won = len(df[df['Stage']=='Won'])\n",
    "round(count_Won/(count_Lost+count_Won),3)"
   ]
  },
  {
   "cell_type": "code",
   "execution_count": 132,
   "metadata": {
    "colab": {
     "base_uri": "https://localhost:8080/",
     "height": 426
    },
    "colab_type": "code",
    "id": "XuestLZL2v9x",
    "outputId": "ab824dca-fc4c-49be-e996-df0bb87712df"
   },
   "outputs": [
    {
     "data": {
      "image/png": "[encoded data removed]",
      "text/plain": [
       "<Figure size 432x288 with 1 Axes>"
      ]
     },
     "metadata": {
      "needs_background": "light",
      "tags": []
     },
     "output_type": "display_data"
    }
   ],
   "source": [
    "# win/lose vs. segment \n",
    "%matplotlib inline\n",
    "pd.crosstab(df.Type,df.Stage).plot(kind='bar')\n",
    "plt.title('Frequency Won/Lost')\n",
    "plt.xlabel('Direct vs. Partners')\n",
    "plt.ylabel('Frequency of Win/Lost')\n",
    "plt.savefig('WinLost')"
   ]
  },
  {
   "cell_type": "markdown",
   "metadata": {
    "colab_type": "text",
    "id": "K2DhODP7tpnw"
   },
   "source": [
    "## Explore the Seasonality "
   ]
  },
  {
   "cell_type": "code",
   "execution_count": 133,
   "metadata": {
    "colab": {
     "base_uri": "https://localhost:8080/",
     "height": 404
    },
    "colab_type": "code",
    "id": "FOZU0RG816wj",
    "outputId": "f4354aa6-a715-4a62-95de-665be511e86c",
    "scrolled": false
   },
   "outputs": [
    {
     "name": "stderr",
     "output_type": "stream",
     "text": [
      "/usr/local/lib/python3.6/dist-packages/ipykernel_launcher.py:3: SettingWithCopyWarning: \n",
      "A value is trying to be set on a copy of a slice from a DataFrame.\n",
      "Try using .loc[row_indexer,col_indexer] = value instead\n",
      "\n",
      "See the caveats in the documentation: https://pandas.pydata.org/pandas-docs/stable/user_guide/indexing.html#returning-a-view-versus-a-copy\n",
      "  This is separate from the ipykernel package so we can avoid doing imports until\n"
     ]
    },
    {
     "data": {
      "image/png": "[encoded data removed]",
      "text/plain": [
       "<Figure size 1584x360 with 1 Axes>"
      ]
     },
     "metadata": {
      "needs_background": "light",
      "tags": []
     },
     "output_type": "display_data"
    }
   ],
   "source": [
    "# Plot the won contract proportion by month\n",
    "df_date_stage=df[['Close Date','Stage']]\n",
    "df_date_stage['Close Date Month num']=pd.to_datetime(df_date_stage['Close Date']).dt.month\n",
    "df_date_stage=pd.concat([df_date_stage,pd.get_dummies(df_date_stage.Stage,prefix='stage')],axis=1)\n",
    "\n",
    "df_month_stage=df_date_stage.groupby(['Close Date Month num'],as_index=None).sum()\n",
    "df_month_stage['won_prop']=df_month_stage['stage_Won']/(df_month_stage['stage_Won']+df_month_stage['stage_Lost'])\n",
    "df_month_stage.head()\n",
    "\n",
    "%matplotlib inline\n",
    "\n",
    "plt.figure(figsize=(22,5))\n",
    "plt.plot(df_month_stage['Close Date Month num'],df_month_stage['won_prop'])\n",
    "plt.title('Proportion of won contract by month')\n",
    "plt.xlabel('Close date by month')\n",
    "plt.ylabel('Proportion of Won contract')\n",
    "plt.savefig('WinLost vs date')"
   ]
  },
  {
   "cell_type": "markdown",
   "metadata": {
    "colab_type": "text",
    "id": "Ye3s7e-MyFjw"
   },
   "source": [
    "There appears to be a seasonaility. At the end of the quarter, the close rate increase."
   ]
  },
  {
   "cell_type": "code",
   "execution_count": 134,
   "metadata": {
    "colab": {
     "base_uri": "https://localhost:8080/",
     "height": 401
    },
    "colab_type": "code",
    "id": "4ESA2Mvz28Ir",
    "outputId": "ef1b9ff9-752c-4fec-ffbb-642a12e848c9"
   },
   "outputs": [
    {
     "name": "stderr",
     "output_type": "stream",
     "text": [
      "/usr/local/lib/python3.6/dist-packages/ipykernel_launcher.py:3: SettingWithCopyWarning: \n",
      "A value is trying to be set on a copy of a slice from a DataFrame.\n",
      "Try using .loc[row_indexer,col_indexer] = value instead\n",
      "\n",
      "See the caveats in the documentation: https://pandas.pydata.org/pandas-docs/stable/user_guide/indexing.html#returning-a-view-versus-a-copy\n",
      "  This is separate from the ipykernel package so we can avoid doing imports until\n"
     ]
    },
    {
     "data": {
      "image/png": "[encoded data removed]",
      "text/plain": [
       "<Figure size 1584x360 with 1 Axes>"
      ]
     },
     "metadata": {
      "needs_background": "light",
      "tags": []
     },
     "output_type": "display_data"
    }
   ],
   "source": [
    "# Plot average discount by month\n",
    "df_date_discount=df[['Close Date','discount']]\n",
    "df_date_discount['Close Date Month num']=pd.to_datetime(df_date_discount['Close Date']).dt.month\n",
    "df_date_discount=df_date_discount.groupby('Close Date Month num',as_index=None).mean()\n",
    "%matplotlib inline\n",
    "plt.figure(figsize=(22,5))\n",
    "plt.plot(df_date_discount['Close Date Month num'],df_date_discount['discount'])\n",
    "plt.title('Discount avg amount by month')\n",
    "plt.xlabel('Close date by month')\n",
    "plt.ylabel('Discount avg amount')\n",
    "plt.savefig('WinLost vs date')\n",
    "#There appears to be a seasonaility. at the end of the quarter, the avg discount amount increase "
   ]
  },
  {
   "cell_type": "markdown",
   "metadata": {
    "colab_type": "text",
    "id": "Ut03mm5Vt-mU"
   },
   "source": [
    "The date in terms of month appears to differentiate, so we put it as a independent variable in the model."
   ]
  },
  {
   "cell_type": "markdown",
   "metadata": {
    "colab_type": "text",
    "id": "hzaPRo8cyFjz"
   },
   "source": [
    "## Modeling"
   ]
  },
  {
   "cell_type": "markdown",
   "metadata": {
    "colab_type": "text",
    "id": "CxFqiFj2Qov9"
   },
   "source": [
    "Firstly build logistic regression to predict the probability of contract win. Then build optimization model to maximize total revenue. \n",
    "\n",
    "We evaluated the model performance by comparing optimized revenue/ actual revenue ratio.\n"
   ]
  },
  {
   "cell_type": "code",
   "execution_count": 135,
   "metadata": {
    "colab": {},
    "colab_type": "code",
    "id": "6FcHOiBSyFj0"
   },
   "outputs": [],
   "source": [
    "df['Close Date Month']=pd.to_datetime(df['Close Date']).dt.month\n",
    "df['End of Quarter']=np.where(df['Close Date Month'].isin([3,6,9,12]),1,0)\n",
    "\n",
    "# Spliting training and test data\n",
    "df['y']=np.where(df['Stage'] =='Won', 1.0,0.0)\n",
    "# spliting the dataset by ID \n",
    "df_train = df.head(1200)\n",
    "df_test = df.tail(305)"
   ]
  },
  {
   "cell_type": "markdown",
   "metadata": {
    "colab_type": "text",
    "id": "zT1TIraHSXW5"
   },
   "source": [
    "### 1.1 Model including avc & end of quarter as independent variables"
   ]
  },
  {
   "cell_type": "code",
   "execution_count": 136,
   "metadata": {
    "colab": {
     "base_uri": "https://localhost:8080/",
     "height": 442
    },
    "colab_type": "code",
    "id": "48HKKK1UMoxp",
    "outputId": "bd9674d8-4082-451b-d249-8140ae70bb5f",
    "scrolled": false
   },
   "outputs": [
    {
     "name": "stdout",
     "output_type": "stream",
     "text": [
      "Optimization terminated successfully.\n",
      "         Current function value: 0.370624\n",
      "         Iterations 8\n",
      "                           Logit Regression Results                           \n",
      "==============================================================================\n",
      "Dep. Variable:                      y   No. Observations:                 1121\n",
      "Model:                          Logit   Df Residuals:                     1112\n",
      "Method:                           MLE   Df Model:                            8\n",
      "Date:                Tue, 16 Jun 2020   Pseudo R-squ.:                  0.4473\n",
      "Time:                        21:09:35   Log-Likelihood:                -415.47\n",
      "converged:                       True   LL-Null:                       -751.77\n",
      "Covariance Type:            nonrobust   LLR p-value:                5.628e-140\n",
      "==================================================================================\n",
      "                     coef    std err          z      P>|z|      [0.025      0.975]\n",
      "----------------------------------------------------------------------------------\n",
      "discount         2.68e-05   5.65e-06      4.748      0.000    1.57e-05    3.79e-05\n",
      "amount          1.376e-05   2.38e-06      5.794      0.000    9.11e-06    1.84e-05\n",
      "New Logo           2.1085      0.199     10.614      0.000       1.719       2.498\n",
      "Partner cloud     -2.1364      0.358     -5.965      0.000      -2.838      -1.434\n",
      "Partner prem      -1.9009      0.213     -8.931      0.000      -2.318      -1.484\n",
      "Direct cloud      -2.6883      0.477     -5.635      0.000      -3.623      -1.753\n",
      "Direct prem       -2.5446      0.273     -9.326      0.000      -3.079      -2.010\n",
      "acv            -4.043e-05   4.84e-06     -8.353      0.000   -4.99e-05   -3.09e-05\n",
      "End of Quarter     1.6703      0.182      9.167      0.000       1.313       2.027\n",
      "==================================================================================\n"
     ]
    }
   ],
   "source": [
    "# Model including acv and seasonality\n",
    "y=df_train['y']\n",
    "x2=df_train[['discount','amount','New Logo','Partner cloud','Partner prem','Direct cloud','Direct prem','acv','End of Quarter']]\n",
    "model2 = sm.Logit(y, x2, missing='drop')\n",
    "model2.fit\n",
    "type(model2)\n",
    "result2=model2.fit()\n",
    "print(result2.summary()) #appears to be all significant "
   ]
  },
  {
   "cell_type": "markdown",
   "metadata": {
    "colab_type": "text",
    "id": "ClQMUyjKyFj7"
   },
   "source": [
    "### 1.2 Price Optimization using the model\n",
    "\n",
    "\n",
    "Using these results, we want to optimize on the price\n",
    "p is the amount, d is the discount\n",
    "\n",
    "\\begin{equation}\n",
    "R(p)=Proba(Y=1|p,d) \\times (p-d)\n",
    "\\end{equation}"
   ]
  },
  {
   "cell_type": "code",
   "execution_count": 139,
   "metadata": {
    "colab": {
     "base_uri": "https://localhost:8080/",
     "height": 34
    },
    "colab_type": "code",
    "id": "Az7uW9UpmzZ7",
    "outputId": "ee05d92b-51e3-4024-dc78-40401767b256"
   },
   "outputs": [
    {
     "name": "stdout",
     "output_type": "stream",
     "text": [
      "optimal discount is: 7240.0 observed discount is  14927.0\n"
     ]
    }
   ],
   "source": [
    "# Find the opimal discount on hold-out sample using the model\n",
    "# As the discount can be calculated as zero, we want to make it positive with sqrt(x^2)\n",
    "x2=df_test[['discount','amount','New Logo','Partner cloud','Partner prem','Direct cloud','Direct prem','acv','End of Quarter']]\n",
    "y=df_test['y']\n",
    "ID=0\n",
    "ID_max=len(df_test)\n",
    "z=np.empty([ID_max,])\n",
    "for ID in range(ID_max):\n",
    "    UT=np.matmul(x2.iloc[ID,1:10],result2.params[1:10])\n",
    "    b=result2.params[0]\n",
    "    p=x2.iloc[ID,1]\n",
    "    def revenueD(d):\n",
    "    #\"\"\"This is the negative revenue function\"\"\"\n",
    "      return -np.exp(UT+b*np.sqrt(d**2))/(1+np.exp(UT+b*np.sqrt(d**2)))*(p-np.sqrt(d**2))\n",
    "    sol3=minimize_scalar(revenueD)\n",
    "    z[ID]=sol3.x   #z is the optimal discount\n",
    "print('optimal discount is:',round(np.mean(z),0),'observed discount is ',np.round(np.mean(df['discount']),0))"
   ]
  },
  {
   "cell_type": "code",
   "execution_count": 140,
   "metadata": {
    "colab": {
     "base_uri": "https://localhost:8080/",
     "height": 156
    },
    "colab_type": "code",
    "id": "GNFuUo_Km3Q0",
    "outputId": "6a366036-347f-44b3-e10e-a5fbe9e782ed"
   },
   "outputs": [
    {
     "name": "stdout",
     "output_type": "stream",
     "text": [
      "(305, 9) (9,)\n"
     ]
    },
    {
     "name": "stderr",
     "output_type": "stream",
     "text": [
      "/usr/local/lib/python3.6/dist-packages/ipykernel_launcher.py:3: SettingWithCopyWarning: \n",
      "A value is trying to be set on a copy of a slice from a DataFrame.\n",
      "Try using .loc[row_indexer,col_indexer] = value instead\n",
      "\n",
      "See the caveats in the documentation: https://pandas.pydata.org/pandas-docs/stable/user_guide/indexing.html#returning-a-view-versus-a-copy\n",
      "  This is separate from the ipykernel package so we can avoid doing imports until\n"
     ]
    }
   ],
   "source": [
    "# Compute the expected revenue after optimization and compare it to the acual revenue\n",
    "# xS for x star\n",
    "df_test['optimal discount']=np.sqrt(z**2)\n",
    "xS=df_test[['optimal discount','amount','New Logo','Partner cloud','Partner prem','Direct cloud','Direct prem','acv','End of Quarter']]\n",
    "print(xS.shape,result2.params.shape)\n",
    "ID=0\n",
    "ID_max=len(df_test)\n",
    "revOpt=np.empty([ID_max,])\n",
    "while ID<=ID_max-1:\n",
    "    j=0\n",
    "    u=0\n",
    "    UT=np.dot(xS.iloc[ID].T,result2.params[0:10].T)\n",
    "    proba=np.exp(UT)/(1+np.exp(UT))\n",
    "    revOpt[ID]=proba*(xS.iloc[ID,1]-z[ID])\n",
    "    ID=ID+1\n",
    "revOpt=np.nan_to_num(revOpt)"
   ]
  },
  {
   "cell_type": "code",
   "execution_count": 141,
   "metadata": {
    "colab": {
     "base_uri": "https://localhost:8080/",
     "height": 156
    },
    "colab_type": "code",
    "id": "TBqd-uyTm3Q3",
    "outputId": "f5cb6a12-99cf-4724-9cb2-9aab4bc21ef7"
   },
   "outputs": [
    {
     "name": "stderr",
     "output_type": "stream",
     "text": [
      "/usr/local/lib/python3.6/dist-packages/ipykernel_launcher.py:2: SettingWithCopyWarning: \n",
      "A value is trying to be set on a copy of a slice from a DataFrame.\n",
      "Try using .loc[row_indexer,col_indexer] = value instead\n",
      "\n",
      "See the caveats in the documentation: https://pandas.pydata.org/pandas-docs/stable/user_guide/indexing.html#returning-a-view-versus-a-copy\n",
      "  \n"
     ]
    },
    {
     "data": {
      "text/plain": [
       "1.604"
      ]
     },
     "execution_count": 141,
     "metadata": {
      "tags": []
     },
     "output_type": "execute_result"
    }
   ],
   "source": [
    "# Calculate the ratio of the optimized expected revenue / actual revenues\n",
    "df_test['Revenue']=np.where(df_test['Stage'] =='Won',df_test['net amount'] ,0.0)\n",
    "round(np.sum(revOpt)/np.sum(df_test['Revenue']),3)"
   ]
  },
  {
   "cell_type": "code",
   "execution_count": 142,
   "metadata": {
    "colab": {
     "base_uri": "https://localhost:8080/",
     "height": 34
    },
    "colab_type": "code",
    "id": "JTjLKKs30obK",
    "outputId": "ccfc88e7-4bb1-45e0-b76b-ecfc9912f0aa"
   },
   "outputs": [
    {
     "data": {
      "text/plain": [
       "2948896.389"
      ]
     },
     "execution_count": 142,
     "metadata": {
      "tags": []
     },
     "output_type": "execute_result"
    }
   ],
   "source": [
    "# The revenue increase\n",
    "round(np.sum(revOpt)-np.sum(df_test['Revenue']),3)"
   ]
  },
  {
   "cell_type": "markdown",
   "metadata": {
    "colab_type": "text",
    "id": "GKgmo9Lhk-e3"
   },
   "source": [
    "### 2.1 Final model improved with interactive terms"
   ]
  },
  {
   "cell_type": "code",
   "execution_count": 143,
   "metadata": {
    "colab": {
     "base_uri": "https://localhost:8080/",
     "height": 427
    },
    "colab_type": "code",
    "id": "ZPU74ltOQybp",
    "outputId": "1371d3da-31b2-4b68-8e0e-837400c61c48"
   },
   "outputs": [
    {
     "data": {
      "text/html": [
       "<div>\n",
       "<style scoped>\n",
       "    .dataframe tbody tr th:only-of-type {\n",
       "        vertical-align: middle;\n",
       "    }\n",
       "\n",
       "    .dataframe tbody tr th {\n",
       "        vertical-align: top;\n",
       "    }\n",
       "\n",
       "    .dataframe thead th {\n",
       "        text-align: right;\n",
       "    }\n",
       "</style>\n",
       "<table border=\"1\" class=\"dataframe\">\n",
       "  <thead>\n",
       "    <tr style=\"text-align: right;\">\n",
       "      <th></th>\n",
       "      <th>discount</th>\n",
       "      <th>amount</th>\n",
       "      <th>New Logo</th>\n",
       "      <th>Partner cloud</th>\n",
       "      <th>Partner prem</th>\n",
       "      <th>Direct cloud</th>\n",
       "      <th>Direct prem</th>\n",
       "      <th>acv</th>\n",
       "      <th>billing plan year</th>\n",
       "      <th>End of Quarter</th>\n",
       "    </tr>\n",
       "  </thead>\n",
       "  <tbody>\n",
       "    <tr>\n",
       "      <th>discount</th>\n",
       "      <td>1.000000</td>\n",
       "      <td>0.744895</td>\n",
       "      <td>0.229336</td>\n",
       "      <td>0.143729</td>\n",
       "      <td>-0.046708</td>\n",
       "      <td>0.027240</td>\n",
       "      <td>-0.079695</td>\n",
       "      <td>0.304594</td>\n",
       "      <td>0.183610</td>\n",
       "      <td>0.152034</td>\n",
       "    </tr>\n",
       "    <tr>\n",
       "      <th>amount</th>\n",
       "      <td>0.744895</td>\n",
       "      <td>1.000000</td>\n",
       "      <td>0.171924</td>\n",
       "      <td>0.232642</td>\n",
       "      <td>-0.063395</td>\n",
       "      <td>0.044192</td>\n",
       "      <td>-0.142931</td>\n",
       "      <td>0.759000</td>\n",
       "      <td>0.150175</td>\n",
       "      <td>0.109886</td>\n",
       "    </tr>\n",
       "    <tr>\n",
       "      <th>New Logo</th>\n",
       "      <td>0.229336</td>\n",
       "      <td>0.171924</td>\n",
       "      <td>1.000000</td>\n",
       "      <td>0.262359</td>\n",
       "      <td>-0.114549</td>\n",
       "      <td>0.111119</td>\n",
       "      <td>-0.138820</td>\n",
       "      <td>0.010098</td>\n",
       "      <td>0.065821</td>\n",
       "      <td>0.163964</td>\n",
       "    </tr>\n",
       "    <tr>\n",
       "      <th>Partner cloud</th>\n",
       "      <td>0.143729</td>\n",
       "      <td>0.232642</td>\n",
       "      <td>0.262359</td>\n",
       "      <td>1.000000</td>\n",
       "      <td>-0.467196</td>\n",
       "      <td>-0.092392</td>\n",
       "      <td>-0.248149</td>\n",
       "      <td>0.238617</td>\n",
       "      <td>0.056921</td>\n",
       "      <td>0.086214</td>\n",
       "    </tr>\n",
       "    <tr>\n",
       "      <th>Partner prem</th>\n",
       "      <td>-0.046708</td>\n",
       "      <td>-0.063395</td>\n",
       "      <td>-0.114549</td>\n",
       "      <td>-0.467196</td>\n",
       "      <td>1.000000</td>\n",
       "      <td>-0.239285</td>\n",
       "      <td>-0.642677</td>\n",
       "      <td>-0.109749</td>\n",
       "      <td>-0.061087</td>\n",
       "      <td>0.044530</td>\n",
       "    </tr>\n",
       "    <tr>\n",
       "      <th>Direct cloud</th>\n",
       "      <td>0.027240</td>\n",
       "      <td>0.044192</td>\n",
       "      <td>0.111119</td>\n",
       "      <td>-0.092392</td>\n",
       "      <td>-0.239285</td>\n",
       "      <td>1.000000</td>\n",
       "      <td>-0.127095</td>\n",
       "      <td>0.091443</td>\n",
       "      <td>0.003345</td>\n",
       "      <td>-0.022233</td>\n",
       "    </tr>\n",
       "    <tr>\n",
       "      <th>Direct prem</th>\n",
       "      <td>-0.079695</td>\n",
       "      <td>-0.142931</td>\n",
       "      <td>-0.138820</td>\n",
       "      <td>-0.248149</td>\n",
       "      <td>-0.642677</td>\n",
       "      <td>-0.127095</td>\n",
       "      <td>1.000000</td>\n",
       "      <td>-0.107158</td>\n",
       "      <td>0.011227</td>\n",
       "      <td>-0.111504</td>\n",
       "    </tr>\n",
       "    <tr>\n",
       "      <th>acv</th>\n",
       "      <td>0.304594</td>\n",
       "      <td>0.759000</td>\n",
       "      <td>0.010098</td>\n",
       "      <td>0.238617</td>\n",
       "      <td>-0.109749</td>\n",
       "      <td>0.091443</td>\n",
       "      <td>-0.107158</td>\n",
       "      <td>1.000000</td>\n",
       "      <td>-0.004352</td>\n",
       "      <td>-0.011090</td>\n",
       "    </tr>\n",
       "    <tr>\n",
       "      <th>billing plan year</th>\n",
       "      <td>0.183610</td>\n",
       "      <td>0.150175</td>\n",
       "      <td>0.065821</td>\n",
       "      <td>0.056921</td>\n",
       "      <td>-0.061087</td>\n",
       "      <td>0.003345</td>\n",
       "      <td>0.011227</td>\n",
       "      <td>-0.004352</td>\n",
       "      <td>1.000000</td>\n",
       "      <td>0.092949</td>\n",
       "    </tr>\n",
       "    <tr>\n",
       "      <th>End of Quarter</th>\n",
       "      <td>0.152034</td>\n",
       "      <td>0.109886</td>\n",
       "      <td>0.163964</td>\n",
       "      <td>0.086214</td>\n",
       "      <td>0.044530</td>\n",
       "      <td>-0.022233</td>\n",
       "      <td>-0.111504</td>\n",
       "      <td>-0.011090</td>\n",
       "      <td>0.092949</td>\n",
       "      <td>1.000000</td>\n",
       "    </tr>\n",
       "  </tbody>\n",
       "</table>\n",
       "</div>"
      ],
      "text/plain": [
       "                   discount    amount  ...  billing plan year  End of Quarter\n",
       "discount           1.000000  0.744895  ...           0.183610        0.152034\n",
       "amount             0.744895  1.000000  ...           0.150175        0.109886\n",
       "New Logo           0.229336  0.171924  ...           0.065821        0.163964\n",
       "Partner cloud      0.143729  0.232642  ...           0.056921        0.086214\n",
       "Partner prem      -0.046708 -0.063395  ...          -0.061087        0.044530\n",
       "Direct cloud       0.027240  0.044192  ...           0.003345       -0.022233\n",
       "Direct prem       -0.079695 -0.142931  ...           0.011227       -0.111504\n",
       "acv                0.304594  0.759000  ...          -0.004352       -0.011090\n",
       "billing plan year  0.183610  0.150175  ...           1.000000        0.092949\n",
       "End of Quarter     0.152034  0.109886  ...           0.092949        1.000000\n",
       "\n",
       "[10 rows x 10 columns]"
      ]
     },
     "execution_count": 143,
     "metadata": {
      "tags": []
     },
     "output_type": "execute_result"
    }
   ],
   "source": [
    "# Check the correlation\n",
    "df[['discount','amount','New Logo','Partner cloud','Partner prem','Direct cloud','Direct prem','acv','billing plan year','End of Quarter']].corr()\n",
    "\n",
    "# billing plan year has high correlation "
   ]
  },
  {
   "cell_type": "code",
   "execution_count": 144,
   "metadata": {
    "colab": {
     "base_uri": "https://localhost:8080/",
     "height": 683
    },
    "colab_type": "code",
    "id": "fFlcVJxuuF0F",
    "outputId": "8432e19e-210d-4e6f-f6a0-f965a3d9524a"
   },
   "outputs": [
    {
     "name": "stderr",
     "output_type": "stream",
     "text": [
      "/usr/local/lib/python3.6/dist-packages/statsmodels/genmod/families/family.py:890: RuntimeWarning: invalid value encountered in true_divide\n",
      "  n_endog_mu = self._clean((1. - endog) / (1. - mu))\n",
      "/usr/local/lib/python3.6/dist-packages/statsmodels/genmod/families/family.py:942: RuntimeWarning: divide by zero encountered in true_divide\n",
      "  special.gammaln(n - y + 1) + y * np.log(mu / (1 - mu)) +\n",
      "/usr/local/lib/python3.6/dist-packages/statsmodels/genmod/families/family.py:943: RuntimeWarning: divide by zero encountered in log\n",
      "  n * np.log(1 - mu)) * var_weights\n",
      "/usr/local/lib/python3.6/dist-packages/statsmodels/genmod/families/family.py:943: RuntimeWarning: invalid value encountered in add\n",
      "  n * np.log(1 - mu)) * var_weights\n"
     ]
    },
    {
     "name": "stdout",
     "output_type": "stream",
     "text": [
      "                 Generalized Linear Model Regression Results                  \n",
      "==============================================================================\n",
      "Dep. Variable:                      y   No. Observations:                 1121\n",
      "Model:                            GLM   Df Residuals:                     1107\n",
      "Model Family:                Binomial   Df Model:                           13\n",
      "Link Function:                  logit   Scale:                          1.0000\n",
      "Method:                          IRLS   Log-Likelihood:                    nan\n",
      "Date:                Tue, 16 Jun 2020   Deviance:                          nan\n",
      "Time:                        21:10:34   Pearson chi2:                 8.84e+03\n",
      "No. Iterations:                   100                                         \n",
      "Covariance Type:            nonrobust                                         \n",
      "================================================================================================\n",
      "                                   coef    std err          z      P>|z|      [0.025      0.975]\n",
      "------------------------------------------------------------------------------------------------\n",
      "discount                      2.012e-06   1.36e-05      0.148      0.883   -2.47e-05    2.87e-05\n",
      "amount                        1.201e-05   2.47e-06      4.868      0.000    7.18e-06    1.68e-05\n",
      "Q('New Logo')                    1.8746      0.219      8.561      0.000       1.445       2.304\n",
      "Q('Partner cloud')              -1.9063      0.374     -5.100      0.000      -2.639      -1.174\n",
      "Q('Partner prem')               -1.9883      0.235     -8.466      0.000      -2.449      -1.528\n",
      "Q('Direct cloud')               -2.6062      0.559     -4.662      0.000      -3.702      -1.510\n",
      "Q('Direct prem')                -2.3262      0.285     -8.176      0.000      -2.884      -1.769\n",
      "Q('acv')                     -3.532e-05   5.42e-06     -6.520      0.000   -4.59e-05   -2.47e-05\n",
      "Q('End of Quarter')              1.5188      0.211      7.190      0.000       1.105       1.933\n",
      "discount:Q('New Logo')         3.26e-05   1.87e-05      1.740      0.082   -4.11e-06    6.93e-05\n",
      "discount:Q('Partner cloud')  -1.528e-05   1.02e-05     -1.496      0.135   -3.53e-05    4.74e-06\n",
      "discount:Q('Partner prem')     3.51e-05   1.34e-05      2.626      0.009     8.9e-06    6.13e-05\n",
      "discount:Q('Direct cloud')    1.218e-06   1.43e-05      0.085      0.932   -2.69e-05    2.93e-05\n",
      "discount:Q('Direct prem')    -1.903e-05    1.3e-05     -1.463      0.143   -4.45e-05    6.46e-06\n",
      "discount:Q('End of Quarter')  1.477e-05   1.37e-05      1.077      0.281   -1.21e-05    4.16e-05\n",
      "================================================================================================\n"
     ]
    }
   ],
   "source": [
    "# The final logistic regression model improved by seasonality and interactive terms\n",
    "import statsmodels.formula.api as smf\n",
    "formula = \"y ~ 0+discount+amount+Q('New Logo')+Q('Partner cloud')+Q('Partner prem')+Q('Direct cloud')+Q('Direct prem')\\\n",
    "+Q('acv')+Q('End of Quarter')+discount:Q('New Logo')+discount:Q('Partner cloud')+discount:Q('Partner prem')+discount:Q('Direct cloud')+\\\n",
    "discount:Q('Direct prem')+discount:Q('End of Quarter')\"\n",
    "model_glm = smf.glm(formula = formula, data=df_train, family=sm.families.Binomial(),missing='drop')\n",
    "result_glm = model_glm.fit()\n",
    "print(result_glm.summary())"
   ]
  },
  {
   "cell_type": "markdown",
   "metadata": {
    "colab_type": "text",
    "id": "dfzhbHanTAYP"
   },
   "source": [
    "### 2.2 Price opimization using final model\n",
    "Using these results, we want to optimize on the price\n",
    "p is the amount, d is the discount\n",
    "\n",
    "\\begin{equation}\n",
    "R(p)=Proba(Y=1|p,d) \\times (p-d)\n",
    "\\end{equation}"
   ]
  },
  {
   "cell_type": "code",
   "execution_count": 145,
   "metadata": {
    "colab": {
     "base_uri": "https://localhost:8080/",
     "height": 34
    },
    "colab_type": "code",
    "id": "r_1Vy-6zSiXm",
    "outputId": "a475cbf3-271e-42cf-d570-25ada978b312"
   },
   "outputs": [
    {
     "name": "stdout",
     "output_type": "stream",
     "text": [
      "optimal discount is: 6602.0 observed discount is  14927.0\n"
     ]
    }
   ],
   "source": [
    "x2_interaction=df_test[['discount','amount','New Logo','Partner cloud','Partner prem','Direct cloud','Direct prem','acv','End of Quarter']]\n",
    "\n",
    "ID=0\n",
    "ID_max=len(x2_interaction)\n",
    "z=[]\n",
    "for ID in range(ID_max):\n",
    "    UT=np.dot(x2_interaction.iloc[ID,1:9],result_glm.params[1:9])\n",
    "    UT2=np.dot(x2_interaction.iloc[ID,2:7],result_glm.params[9:14])+x2_interaction.iloc[ID,8]*result_glm.params[14] #skipped acv\n",
    "    b=result_glm.params[0]\n",
    "    p=x2_interaction.iloc[ID,1]\n",
    "    def revenueD(d):\n",
    "    #\"\"\"This is the negative revenue function\"\"\"\n",
    "      return -np.exp(UT+(UT2+b)*np.sqrt(d**2))/(1+np.exp(UT+(UT2+b)*np.sqrt(d**2)))*(p-np.sqrt(d**2))\n",
    "    sol3=minimize_scalar(revenueD)\n",
    "    z.append(sol3.x)\n",
    "z = np.array(z)  # z is the optimal discount\n",
    "print('optimal discount is:',round(np.mean(z),0),'observed discount is ',np.round(np.mean(df['discount']),0))"
   ]
  },
  {
   "cell_type": "code",
   "execution_count": 146,
   "metadata": {
    "colab": {
     "base_uri": "https://localhost:8080/",
     "height": 258
    },
    "colab_type": "code",
    "id": "S7rtfP4WUtMm",
    "outputId": "599a3a79-b21a-4dcf-a46c-af2eb299b46a"
   },
   "outputs": [
    {
     "name": "stdout",
     "output_type": "stream",
     "text": [
      "(305, 9) (15,)\n"
     ]
    },
    {
     "name": "stderr",
     "output_type": "stream",
     "text": [
      "/usr/local/lib/python3.6/dist-packages/ipykernel_launcher.py:2: SettingWithCopyWarning: \n",
      "A value is trying to be set on a copy of a slice from a DataFrame.\n",
      "Try using .loc[row_indexer,col_indexer] = value instead\n",
      "\n",
      "See the caveats in the documentation: https://pandas.pydata.org/pandas-docs/stable/user_guide/indexing.html#returning-a-view-versus-a-copy\n",
      "  \n",
      "/usr/local/lib/python3.6/dist-packages/ipykernel_launcher.py:4: SettingWithCopyWarning: \n",
      "A value is trying to be set on a copy of a slice from a DataFrame.\n",
      "Try using .loc[row_indexer,col_indexer] = value instead\n",
      "\n",
      "See the caveats in the documentation: https://pandas.pydata.org/pandas-docs/stable/user_guide/indexing.html#returning-a-view-versus-a-copy\n",
      "  after removing the cwd from sys.path.\n"
     ]
    }
   ],
   "source": [
    "# Calculate the ratio of the optimized expected revenue / actual revenues\n",
    "x2_interaction['optimal discount']=np.sqrt(z**2)\n",
    "Summary_Opt=df_test\n",
    "Summary_Opt['optimal discount']=np.sqrt(z**2)\n",
    "xS=x2_interaction[['optimal discount','amount','New Logo','Partner cloud','Partner prem','Direct cloud','Direct prem','acv','End of Quarter']]\n",
    "\n",
    "print(xS.shape,result_glm.params.shape)\n",
    "ID=0\n",
    "ID_max=len(x2_interaction)\n",
    "revOpt=np.empty([ID_max,])\n",
    "for ID in range(ID_max):\n",
    "    dis=xS.iloc[ID,0]\n",
    "    UT=np.dot(xS.iloc[ID,0:9],result_glm.params[0:9])\n",
    "    UT2=np.dot(xS.iloc[ID,2:7],result_glm.params[9:14])+xS.iloc[ID,8]*result_glm.params[14]  #skipped acv\n",
    "    proba=np.exp(UT+UT2*np.sqrt(dis**2))/(1+np.exp(UT+UT2*np.sqrt(dis**2)))\n",
    "    revOpt[ID]=proba*(xS.iloc[ID,1]-dis)\n",
    "revOpt=np.nan_to_num(revOpt);"
   ]
  },
  {
   "cell_type": "code",
   "execution_count": 147,
   "metadata": {
    "colab": {
     "base_uri": "https://localhost:8080/",
     "height": 156
    },
    "colab_type": "code",
    "id": "22js-R-fCVoy",
    "outputId": "3aeffcc1-73ed-434b-c441-d2f7ed4236aa"
   },
   "outputs": [
    {
     "name": "stderr",
     "output_type": "stream",
     "text": [
      "/usr/local/lib/python3.6/dist-packages/ipykernel_launcher.py:2: SettingWithCopyWarning: \n",
      "A value is trying to be set on a copy of a slice from a DataFrame.\n",
      "Try using .loc[row_indexer,col_indexer] = value instead\n",
      "\n",
      "See the caveats in the documentation: https://pandas.pydata.org/pandas-docs/stable/user_guide/indexing.html#returning-a-view-versus-a-copy\n",
      "  \n"
     ]
    },
    {
     "data": {
      "text/plain": [
       "1.612"
      ]
     },
     "execution_count": 147,
     "metadata": {
      "tags": []
     },
     "output_type": "execute_result"
    }
   ],
   "source": [
    "# Final optimization result\n",
    "x2_interaction['Revenue']=np.where(df_test['Stage'] =='Won',df_test['net amount'] ,0.0)\n",
    "round(np.sum(revOpt)/np.sum(x2_interaction['Revenue']),3)"
   ]
  },
  {
   "cell_type": "code",
   "execution_count": 148,
   "metadata": {
    "colab": {
     "base_uri": "https://localhost:8080/",
     "height": 34
    },
    "colab_type": "code",
    "id": "gv1ek9mEPDFY",
    "outputId": "62641709-90a8-49f9-dbcb-b3de712014df"
   },
   "outputs": [
    {
     "data": {
      "text/plain": [
       "2986902.973"
      ]
     },
     "execution_count": 148,
     "metadata": {
      "tags": []
     },
     "output_type": "execute_result"
    }
   ],
   "source": [
    "# Optimized revenue\n",
    "round(np.sum(revOpt)-np.sum(df_test['Revenue']),3)"
   ]
  },
  {
   "cell_type": "markdown",
   "metadata": {
    "colab_type": "text",
    "id": "KM2xuA8DWlHM"
   },
   "source": [
    "## Summary"
   ]
  },
  {
   "cell_type": "code",
   "execution_count": 149,
   "metadata": {
    "colab": {
     "base_uri": "https://localhost:8080/",
     "height": 136
    },
    "colab_type": "code",
    "id": "QaP1VUDQBLGr",
    "outputId": "01808801-c3c3-4b4c-e030-f05aadb4ebd2"
   },
   "outputs": [
    {
     "data": {
      "text/plain": [
       "Index(['ID', 'Close Date', 'Created Date', 'New Logo', 'Type', 'Stage',\n",
       "       'Billing Plan', ' ACV ', ' Discount Amount ', ' Amount ',\n",
       "       ' Net Amount ', 'Partner cloud', 'Partner prem', 'Direct cloud',\n",
       "       'Direct prem', 'amount', 'acv', 'net amount', 'billing plan year',\n",
       "       'discount', 'depth', 'Close Date Month', 'End of Quarter', 'y',\n",
       "       'optimal discount', 'Revenue'],\n",
       "      dtype='object')"
      ]
     },
     "execution_count": 149,
     "metadata": {
      "tags": []
     },
     "output_type": "execute_result"
    }
   ],
   "source": [
    "Summary_Opt.columns"
   ]
  },
  {
   "cell_type": "code",
   "execution_count": 150,
   "metadata": {
    "colab": {
     "base_uri": "https://localhost:8080/",
     "height": 734
    },
    "colab_type": "code",
    "id": "bygYn4i4UXJz",
    "outputId": "ce97311e-b733-439f-c6d3-b331ad906bde"
   },
   "outputs": [
    {
     "name": "stderr",
     "output_type": "stream",
     "text": [
      "/usr/local/lib/python3.6/dist-packages/ipykernel_launcher.py:1: SettingWithCopyWarning: \n",
      "A value is trying to be set on a copy of a slice from a DataFrame.\n",
      "Try using .loc[row_indexer,col_indexer] = value instead\n",
      "\n",
      "See the caveats in the documentation: https://pandas.pydata.org/pandas-docs/stable/user_guide/indexing.html#returning-a-view-versus-a-copy\n",
      "  \"\"\"Entry point for launching an IPython kernel.\n",
      "/usr/local/lib/python3.6/dist-packages/ipykernel_launcher.py:2: SettingWithCopyWarning: \n",
      "A value is trying to be set on a copy of a slice from a DataFrame.\n",
      "Try using .loc[row_indexer,col_indexer] = value instead\n",
      "\n",
      "See the caveats in the documentation: https://pandas.pydata.org/pandas-docs/stable/user_guide/indexing.html#returning-a-view-versus-a-copy\n",
      "  \n",
      "/usr/local/lib/python3.6/dist-packages/ipykernel_launcher.py:3: SettingWithCopyWarning: \n",
      "A value is trying to be set on a copy of a slice from a DataFrame.\n",
      "Try using .loc[row_indexer,col_indexer] = value instead\n",
      "\n",
      "See the caveats in the documentation: https://pandas.pydata.org/pandas-docs/stable/user_guide/indexing.html#returning-a-view-versus-a-copy\n",
      "  This is separate from the ipykernel package so we can avoid doing imports until\n",
      "/usr/local/lib/python3.6/dist-packages/ipykernel_launcher.py:4: SettingWithCopyWarning: \n",
      "A value is trying to be set on a copy of a slice from a DataFrame.\n",
      "Try using .loc[row_indexer,col_indexer] = value instead\n",
      "\n",
      "See the caveats in the documentation: https://pandas.pydata.org/pandas-docs/stable/user_guide/indexing.html#returning-a-view-versus-a-copy\n",
      "  after removing the cwd from sys.path.\n",
      "/usr/local/lib/python3.6/dist-packages/ipykernel_launcher.py:5: SettingWithCopyWarning: \n",
      "A value is trying to be set on a copy of a slice from a DataFrame.\n",
      "Try using .loc[row_indexer,col_indexer] = value instead\n",
      "\n",
      "See the caveats in the documentation: https://pandas.pydata.org/pandas-docs/stable/user_guide/indexing.html#returning-a-view-versus-a-copy\n",
      "  \"\"\"\n"
     ]
    },
    {
     "data": {
      "text/html": [
       "<div>\n",
       "<style scoped>\n",
       "    .dataframe tbody tr th:only-of-type {\n",
       "        vertical-align: middle;\n",
       "    }\n",
       "\n",
       "    .dataframe tbody tr th {\n",
       "        vertical-align: top;\n",
       "    }\n",
       "\n",
       "    .dataframe thead th {\n",
       "        text-align: right;\n",
       "    }\n",
       "</style>\n",
       "<table border=\"1\" class=\"dataframe\">\n",
       "  <thead>\n",
       "    <tr style=\"text-align: right;\">\n",
       "      <th></th>\n",
       "      <th>depth</th>\n",
       "      <th>depth_optimized</th>\n",
       "      <th>amount</th>\n",
       "      <th>discount</th>\n",
       "      <th>Increased Revenue</th>\n",
       "    </tr>\n",
       "    <tr>\n",
       "      <th>Type</th>\n",
       "      <th></th>\n",
       "      <th></th>\n",
       "      <th></th>\n",
       "      <th></th>\n",
       "      <th></th>\n",
       "    </tr>\n",
       "  </thead>\n",
       "  <tbody>\n",
       "    <tr>\n",
       "      <th>Direct - Cloud Product</th>\n",
       "      <td>0.13</td>\n",
       "      <td>0.15</td>\n",
       "      <td>64117.65</td>\n",
       "      <td>12471.76</td>\n",
       "      <td>10767.75</td>\n",
       "    </tr>\n",
       "    <tr>\n",
       "      <th>Direct - OnPremise Product</th>\n",
       "      <td>0.04</td>\n",
       "      <td>0.00</td>\n",
       "      <td>33464.41</td>\n",
       "      <td>2937.01</td>\n",
       "      <td>2724.45</td>\n",
       "    </tr>\n",
       "    <tr>\n",
       "      <th>Partner - Cloud Product</th>\n",
       "      <td>0.22</td>\n",
       "      <td>0.05</td>\n",
       "      <td>141035.94</td>\n",
       "      <td>52629.22</td>\n",
       "      <td>37273.97</td>\n",
       "    </tr>\n",
       "    <tr>\n",
       "      <th>Partner - OnPremise Product</th>\n",
       "      <td>0.09</td>\n",
       "      <td>0.14</td>\n",
       "      <td>52695.51</td>\n",
       "      <td>10492.98</td>\n",
       "      <td>8531.55</td>\n",
       "    </tr>\n",
       "  </tbody>\n",
       "</table>\n",
       "</div>"
      ],
      "text/plain": [
       "                             depth  ...  Increased Revenue\n",
       "Type                                ...                   \n",
       "Direct - Cloud Product        0.13  ...           10767.75\n",
       "Direct - OnPremise Product    0.04  ...            2724.45\n",
       "Partner - Cloud Product       0.22  ...           37273.97\n",
       "Partner - OnPremise Product   0.09  ...            8531.55\n",
       "\n",
       "[4 rows x 5 columns]"
      ]
     },
     "execution_count": 150,
     "metadata": {
      "tags": []
     },
     "output_type": "execute_result"
    }
   ],
   "source": [
    "Summary_Opt['Revenue_optimized']=revOpt\n",
    "Summary_Opt['depth_optimized']=Summary_Opt['optimal discount']/Summary_Opt['amount']\n",
    "Summary_Opt['depth']=Summary_Opt['discount']/Summary_Opt['amount']\n",
    "Summary_Opt['Revenue_optimized']=revOpt\n",
    "Summary_Opt['Increased Revenue']=Summary_Opt['Revenue_optimized']-Summary_Opt['Revenue']\n",
    "# Type\n",
    "round(Summary_Opt[['Type','depth','depth_optimized','amount','discount','Increased Revenue']].groupby('Type').mean(),2)"
   ]
  },
  {
   "cell_type": "code",
   "execution_count": 151,
   "metadata": {
    "colab": {
     "base_uri": "https://localhost:8080/",
     "height": 142
    },
    "colab_type": "code",
    "id": "Dq4T4VLqAndo",
    "outputId": "b8596505-9622-4969-9735-33b1de922936"
   },
   "outputs": [
    {
     "data": {
      "text/html": [
       "<div>\n",
       "<style scoped>\n",
       "    .dataframe tbody tr th:only-of-type {\n",
       "        vertical-align: middle;\n",
       "    }\n",
       "\n",
       "    .dataframe tbody tr th {\n",
       "        vertical-align: top;\n",
       "    }\n",
       "\n",
       "    .dataframe thead th {\n",
       "        text-align: right;\n",
       "    }\n",
       "</style>\n",
       "<table border=\"1\" class=\"dataframe\">\n",
       "  <thead>\n",
       "    <tr style=\"text-align: right;\">\n",
       "      <th></th>\n",
       "      <th>depth</th>\n",
       "      <th>depth_optimized</th>\n",
       "      <th>amount</th>\n",
       "      <th>discount</th>\n",
       "      <th>Increased Revenue</th>\n",
       "    </tr>\n",
       "    <tr>\n",
       "      <th>New Logo</th>\n",
       "      <th></th>\n",
       "      <th></th>\n",
       "      <th></th>\n",
       "      <th></th>\n",
       "      <th></th>\n",
       "    </tr>\n",
       "  </thead>\n",
       "  <tbody>\n",
       "    <tr>\n",
       "      <th>0</th>\n",
       "      <td>0.05</td>\n",
       "      <td>0.08</td>\n",
       "      <td>42581.66</td>\n",
       "      <td>5617.06</td>\n",
       "      <td>4365.66</td>\n",
       "    </tr>\n",
       "    <tr>\n",
       "      <th>1</th>\n",
       "      <td>0.15</td>\n",
       "      <td>0.07</td>\n",
       "      <td>75465.39</td>\n",
       "      <td>22536.55</td>\n",
       "      <td>17434.49</td>\n",
       "    </tr>\n",
       "  </tbody>\n",
       "</table>\n",
       "</div>"
      ],
      "text/plain": [
       "          depth  depth_optimized    amount  discount  Increased Revenue\n",
       "New Logo                                                               \n",
       "0          0.05             0.08  42581.66   5617.06            4365.66\n",
       "1          0.15             0.07  75465.39  22536.55           17434.49"
      ]
     },
     "execution_count": 151,
     "metadata": {
      "tags": []
     },
     "output_type": "execute_result"
    }
   ],
   "source": [
    "# New logo \n",
    "round(Summary_Opt[['New Logo','depth','depth_optimized','amount','discount','Increased Revenue']].groupby('New Logo').mean(),2)"
   ]
  },
  {
   "cell_type": "code",
   "execution_count": 152,
   "metadata": {
    "colab": {
     "base_uri": "https://localhost:8080/",
     "height": 142
    },
    "colab_type": "code",
    "id": "yx0rbBJTBAsZ",
    "outputId": "c06566c1-eab5-477a-e3d1-0994881fc11e"
   },
   "outputs": [
    {
     "data": {
      "text/html": [
       "<div>\n",
       "<style scoped>\n",
       "    .dataframe tbody tr th:only-of-type {\n",
       "        vertical-align: middle;\n",
       "    }\n",
       "\n",
       "    .dataframe tbody tr th {\n",
       "        vertical-align: top;\n",
       "    }\n",
       "\n",
       "    .dataframe thead th {\n",
       "        text-align: right;\n",
       "    }\n",
       "</style>\n",
       "<table border=\"1\" class=\"dataframe\">\n",
       "  <thead>\n",
       "    <tr style=\"text-align: right;\">\n",
       "      <th></th>\n",
       "      <th>depth</th>\n",
       "      <th>depth_optimized</th>\n",
       "      <th>amount</th>\n",
       "      <th>discount</th>\n",
       "      <th>Increased Revenue</th>\n",
       "    </tr>\n",
       "    <tr>\n",
       "      <th>End of Quarter</th>\n",
       "      <th></th>\n",
       "      <th></th>\n",
       "      <th></th>\n",
       "      <th></th>\n",
       "      <th></th>\n",
       "    </tr>\n",
       "  </thead>\n",
       "  <tbody>\n",
       "    <tr>\n",
       "      <th>0</th>\n",
       "      <td>0.05</td>\n",
       "      <td>0.09</td>\n",
       "      <td>47317.96</td>\n",
       "      <td>6096.94</td>\n",
       "      <td>3231.20</td>\n",
       "    </tr>\n",
       "    <tr>\n",
       "      <th>1</th>\n",
       "      <td>0.17</td>\n",
       "      <td>0.04</td>\n",
       "      <td>74158.21</td>\n",
       "      <td>25733.13</td>\n",
       "      <td>22884.31</td>\n",
       "    </tr>\n",
       "  </tbody>\n",
       "</table>\n",
       "</div>"
      ],
      "text/plain": [
       "                depth  depth_optimized    amount  discount  Increased Revenue\n",
       "End of Quarter                                                               \n",
       "0                0.05             0.09  47317.96   6096.94            3231.20\n",
       "1                0.17             0.04  74158.21  25733.13           22884.31"
      ]
     },
     "execution_count": 152,
     "metadata": {
      "tags": []
     },
     "output_type": "execute_result"
    }
   ],
   "source": [
    "# End of quarter (Seasonality)\n",
    "round(Summary_Opt[['End of Quarter','depth','depth_optimized','amount','discount','Increased Revenue']].groupby('End of Quarter').mean(),2)"
   ]
  }
 ],
 "metadata": {
  "colab": {
   "collapsed_sections": [],
   "name": "HW_B_final.ipynb",
   "provenance": [],
   "toc_visible": true
  },
  "kernelspec": {
   "display_name": "Python 3",
   "language": "python",
   "name": "python3"
  },
  "language_info": {
   "codemirror_mode": {
    "name": "ipython",
    "version": 3
   },
   "file_extension": ".py",
   "mimetype": "text/x-python",
   "name": "python",
   "nbconvert_exporter": "python",
   "pygments_lexer": "ipython3",
   "version": "3.7.3"
  }
 },
 "nbformat": 4,
 "nbformat_minor": 1
}
